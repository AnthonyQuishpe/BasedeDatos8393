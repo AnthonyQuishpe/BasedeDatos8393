{
  "nbformat": 4,
  "nbformat_minor": 0,
  "metadata": {
    "colab": {
      "provenance": []
    },
    "kernelspec": {
      "name": "python3",
      "display_name": "Python 3"
    },
    "language_info": {
      "name": "python"
    }
  },
  "cells": [
    {
      "cell_type": "code",
      "execution_count": null,
      "metadata": {
        "id": "STbS_uslpzSO",
        "outputId": "0d437321-88a8-4855-efd9-8f0262933e54",
        "colab": {
          "base_uri": "https://localhost:8080/"
        }
      },
      "outputs": [
        {
          "output_type": "stream",
          "name": "stdout",
          "text": [
            "Looking in indexes: https://pypi.org/simple, https://us-python.pkg.dev/colab-wheels/public/simple/\n",
            "Requirement already satisfied: Faker in /usr/local/lib/python3.7/dist-packages (15.3.2)\n",
            "Requirement already satisfied: python-dateutil>=2.4 in /usr/local/lib/python3.7/dist-packages (from Faker) (2.8.2)\n",
            "Requirement already satisfied: typing-extensions>=3.10.0.1 in /usr/local/lib/python3.7/dist-packages (from Faker) (4.1.1)\n",
            "Requirement already satisfied: six>=1.5 in /usr/local/lib/python3.7/dist-packages (from python-dateutil>=2.4->Faker) (1.15.0)\n"
          ]
        }
      ],
      "source": [
        "#Instalamos libreria faker para la creacion de datos aleatorios\n",
        "!pip install Faker"
      ]
    },
    {
      "cell_type": "code",
      "source": [
        "import pandas as pd\n",
        "import uuid\n",
        "import random\n",
        "from faker import Faker\n",
        "import datetime"
      ],
      "metadata": {
        "id": "x4X4HE70sC5U"
      },
      "execution_count": null,
      "outputs": []
    },
    {
      "cell_type": "code",
      "source": [
        "cooptaxi = 5000"
      ],
      "metadata": {
        "id": "ZkRyOnffsFEK"
      },
      "execution_count": null,
      "outputs": []
    },
    {
      "cell_type": "code",
      "source": [
        "#Atributos 5 \n",
        "features = [\n",
        "    \"IdCoop\",\n",
        "    \"NombreCoop\",\n",
        "    \"TelefonoCoop\",\n",
        "    \"CorreoCoop\",\n",
        "    \"DescripcionCoop\",\n",
        "]# Creamos un DF de los atributos\n",
        "df = pd.DataFrame(columns=features)"
      ],
      "metadata": {
        "id": "lnBZZM2SsK4C"
      },
      "execution_count": null,
      "outputs": []
    },
    {
      "cell_type": "code",
      "source": [
        "#Guardamos en la columna Id los id\n",
        "df['IdCoop'] = [uuid.uuid4().hex for i in range(cooptaxi)]"
      ],
      "metadata": {
        "id": "fjfOJv3WTSzt"
      },
      "execution_count": null,
      "outputs": []
    },
    {
      "cell_type": "code",
      "source": [
        "print(df['IdCoop'].nunique()==cooptaxi)"
      ],
      "metadata": {
        "id": "HdI___qSTk4S",
        "outputId": "1fc50292-62b5-41ae-ad58-88083f4b23c5",
        "colab": {
          "base_uri": "https://localhost:8080/"
        }
      },
      "execution_count": null,
      "outputs": [
        {
          "output_type": "stream",
          "name": "stdout",
          "text": [
            "True\n"
          ]
        }
      ]
    },
    {
      "cell_type": "code",
      "source": [
        "genero = [\"male\", \"female\"]"
      ],
      "metadata": {
        "id": "W2-C1REBVcJo"
      },
      "execution_count": null,
      "outputs": []
    },
    {
      "cell_type": "code",
      "source": [
        "df['genero']= random.choices(\n",
        "    genero, \n",
        "    weights=(70,30), \n",
        "    k=cooptaxi\n",
        ")"
      ],
      "metadata": {
        "id": "DFVlFrI6YZtT"
      },
      "execution_count": null,
      "outputs": []
    },
    {
      "cell_type": "code",
      "source": [
        "#Instancia Faker\n",
        "faker = Faker()\n",
        "#Creamos una función.\n",
        "def name_gen(genero):\n",
        "    \"\"\"\n",
        "    Generamos los distintos nombres de taxis dependiendo el genero \n",
        "    asignado mediante la instancia faker.\n",
        "\n",
        "    Parámetros\n",
        "\n",
        "    Return\n",
        "    -------\n",
        "    Retorna los nombres de los taxistas\n",
        "    \"\"\"\n",
        "    #En caso de que el genero sea hombre nos retornara un nombre masculino\n",
        "    if genero=='male':\n",
        "        return faker.name_male()\n",
        "    \n",
        "    return faker.name()#Generamos los nombres\n",
        "#Guardamos los nombres\n",
        "df['NombreCoop'] = [\"TAXI \"+name_gen(i) for i in df['genero']]"
      ],
      "metadata": {
        "id": "NDgJBuBxVczS"
      },
      "execution_count": null,
      "outputs": []
    },
    {
      "cell_type": "code",
      "source": [
        "#Importamos las librerias necesarias para generar numeros aleatorios\n",
        "import random as r\n",
        "from random import seed\n",
        "from datetime import datetime\n",
        "#Variable numero como string\n",
        "numero=[]\n",
        "size = 10\n",
        "\n",
        "for i in range(0, cooptaxi): #Generación de números de teléfonos\n",
        "  random.seed(datetime.now())\n",
        "  valores = [0,1,2,3,4,5,6,7,8,9] #Números por los cual puede formarse la cadena\n",
        "  numero=(''.join([str(random.choice(valores)) for i in range(size)]))#Creación de los numeros\n",
        "  df.TelefonoCoop[i]=numero #Guardamos los numeros de telefono"
      ],
      "metadata": {
        "id": "ln7ikaYmVrTV"
      },
      "execution_count": null,
      "outputs": []
    },
    {
      "cell_type": "code",
      "source": [
        "#Creación de función\n",
        "def emailGen(name, duplicateFound=False):\n",
        "    \"\"\"\n",
        "    Genera una dirección de correo electrónico aleatoria basada en el nombre dado.\n",
        "    \"\"\"\n",
        "    # Dominio para usar\n",
        "    dom = \"@taxi.com\"\n",
        "    # Minusculas y division\n",
        "    name = name.lower().split(\" \")\n",
        "    #Caracteres random en el correo\n",
        "    chars = [\".\", \"_\"]\n",
        "    \n",
        "    new_name = name[0] + random.choice(chars) + name[1] \n",
        "    #Distinguir para los duplicados de los correos\n",
        "    if duplicateFound:\n",
        "        \n",
        "        #Numero aleatorio para insertar al final\n",
        "        num = random.randint(0,100)\n",
        "        #Insertar al final\n",
        "        new_name = new_name + str(num)\n",
        "    #Devuelve la direccion con el correo adjunto\n",
        "    return new_name + dom"
      ],
      "metadata": {
        "id": "DYfvPHl0V9zj"
      },
      "execution_count": null,
      "outputs": []
    },
    {
      "cell_type": "code",
      "source": [
        "#Variable para los correos electrónicos como string\n",
        "emails = []\n",
        "\n",
        "for NombreCoop in df['NombreCoop']: \n",
        "    # Generamos el correo\n",
        "    email = emailGen(NombreCoop)\n",
        "    # Bucle hasta que se genera un correo electrónico único\n",
        "    while email in emails:\n",
        "        # Crear un correo electrónico con un número aleatorio\n",
        "        email = emailGen(NombreCoop, duplicateFound=True)\n",
        "    # Adjuntar el nuevo correo electrónico a la lista\n",
        "    emails.append(email)\n",
        "df['CorreoCoop'] = emails #Guardamos los correos"
      ],
      "metadata": {
        "id": "Pv9jiNdjWI0Z"
      },
      "execution_count": null,
      "outputs": []
    },
    {
      "cell_type": "code",
      "source": [
        "#Importamos las librerias necesarias\n",
        "import string\n",
        "import random\n",
        "#Creamos una variable\n",
        "bio=[]\n",
        "length_of_string = 20\n",
        "\n",
        "for i in range(0, cooptaxi):#Creamos la descripcion de la Coop\n",
        "  random.seed(datetime.now())\n",
        "  #La descripcion contendra todo tipo de caracteres.\n",
        "  bio=('Cooperativa Taxis Rutas')\n",
        "  #Guardamos la descripcion en el atributo \n",
        "  df.DescripcionCoop[i] =bio"
      ],
      "metadata": {
        "id": "asTIuSQKWaus"
      },
      "execution_count": null,
      "outputs": []
    },
    {
      "cell_type": "code",
      "source": [
        "#borra el genero ya que no se necesita en esta entidad.\n",
        "del(df['genero'])"
      ],
      "metadata": {
        "id": "tHY5k0tmWb6v"
      },
      "execution_count": null,
      "outputs": []
    },
    {
      "cell_type": "code",
      "source": [
        "#Guardamos todos los datos junto con sus atributos en un archivo csv.\n",
        "df.to_csv('cooptaxi.csv')\n",
        "df.head(5)"
      ],
      "metadata": {
        "id": "p6Hye3TRWeoU",
        "outputId": "73a7f445-8688-4c3a-f227-34356791d473",
        "colab": {
          "base_uri": "https://localhost:8080/",
          "height": 206
        }
      },
      "execution_count": null,
      "outputs": [
        {
          "output_type": "execute_result",
          "data": {
            "text/plain": [
              "                             IdCoop            NombreCoop TelefonoCoop  \\\n",
              "0  04e4f8a98bc1423a81f718542e2f0c31    TAXI Tommy Lambert   6763902280   \n",
              "1  fa333c5a4a194e9f8fbbaee785461e3a   TAXI Darlene Morris   2687193981   \n",
              "2  5812f2a0bedd4ed38158c04fea75661d    TAXI Nicholas Long   5065697793   \n",
              "3  5b7577a4c5f5442ea117c32a605149b1     TAXI Jesse Miller   0802308062   \n",
              "4  ac6da6fe2c1643a39c9629d1fd3fc16f  TAXI Edward Mills MD   5558062982   \n",
              "\n",
              "               CorreoCoop          DescripcionCoop  \n",
              "0     taxi.tommy@taxi.com  Cooperativa Taxis Rutas  \n",
              "1   taxi.darlene@taxi.com  Cooperativa Taxis Rutas  \n",
              "2  taxi_nicholas@taxi.com  Cooperativa Taxis Rutas  \n",
              "3     taxi_jesse@taxi.com  Cooperativa Taxis Rutas  \n",
              "4    taxi.edward@taxi.com  Cooperativa Taxis Rutas  "
            ],
            "text/html": [
              "\n",
              "  <div id=\"df-a2f9e524-843b-4a7d-a404-6daf33807321\">\n",
              "    <div class=\"colab-df-container\">\n",
              "      <div>\n",
              "<style scoped>\n",
              "    .dataframe tbody tr th:only-of-type {\n",
              "        vertical-align: middle;\n",
              "    }\n",
              "\n",
              "    .dataframe tbody tr th {\n",
              "        vertical-align: top;\n",
              "    }\n",
              "\n",
              "    .dataframe thead th {\n",
              "        text-align: right;\n",
              "    }\n",
              "</style>\n",
              "<table border=\"1\" class=\"dataframe\">\n",
              "  <thead>\n",
              "    <tr style=\"text-align: right;\">\n",
              "      <th></th>\n",
              "      <th>IdCoop</th>\n",
              "      <th>NombreCoop</th>\n",
              "      <th>TelefonoCoop</th>\n",
              "      <th>CorreoCoop</th>\n",
              "      <th>DescripcionCoop</th>\n",
              "    </tr>\n",
              "  </thead>\n",
              "  <tbody>\n",
              "    <tr>\n",
              "      <th>0</th>\n",
              "      <td>04e4f8a98bc1423a81f718542e2f0c31</td>\n",
              "      <td>TAXI Tommy Lambert</td>\n",
              "      <td>6763902280</td>\n",
              "      <td>taxi.tommy@taxi.com</td>\n",
              "      <td>Cooperativa Taxis Rutas</td>\n",
              "    </tr>\n",
              "    <tr>\n",
              "      <th>1</th>\n",
              "      <td>fa333c5a4a194e9f8fbbaee785461e3a</td>\n",
              "      <td>TAXI Darlene Morris</td>\n",
              "      <td>2687193981</td>\n",
              "      <td>taxi.darlene@taxi.com</td>\n",
              "      <td>Cooperativa Taxis Rutas</td>\n",
              "    </tr>\n",
              "    <tr>\n",
              "      <th>2</th>\n",
              "      <td>5812f2a0bedd4ed38158c04fea75661d</td>\n",
              "      <td>TAXI Nicholas Long</td>\n",
              "      <td>5065697793</td>\n",
              "      <td>taxi_nicholas@taxi.com</td>\n",
              "      <td>Cooperativa Taxis Rutas</td>\n",
              "    </tr>\n",
              "    <tr>\n",
              "      <th>3</th>\n",
              "      <td>5b7577a4c5f5442ea117c32a605149b1</td>\n",
              "      <td>TAXI Jesse Miller</td>\n",
              "      <td>0802308062</td>\n",
              "      <td>taxi_jesse@taxi.com</td>\n",
              "      <td>Cooperativa Taxis Rutas</td>\n",
              "    </tr>\n",
              "    <tr>\n",
              "      <th>4</th>\n",
              "      <td>ac6da6fe2c1643a39c9629d1fd3fc16f</td>\n",
              "      <td>TAXI Edward Mills MD</td>\n",
              "      <td>5558062982</td>\n",
              "      <td>taxi.edward@taxi.com</td>\n",
              "      <td>Cooperativa Taxis Rutas</td>\n",
              "    </tr>\n",
              "  </tbody>\n",
              "</table>\n",
              "</div>\n",
              "      <button class=\"colab-df-convert\" onclick=\"convertToInteractive('df-a2f9e524-843b-4a7d-a404-6daf33807321')\"\n",
              "              title=\"Convert this dataframe to an interactive table.\"\n",
              "              style=\"display:none;\">\n",
              "        \n",
              "  <svg xmlns=\"http://www.w3.org/2000/svg\" height=\"24px\"viewBox=\"0 0 24 24\"\n",
              "       width=\"24px\">\n",
              "    <path d=\"M0 0h24v24H0V0z\" fill=\"none\"/>\n",
              "    <path d=\"M18.56 5.44l.94 2.06.94-2.06 2.06-.94-2.06-.94-.94-2.06-.94 2.06-2.06.94zm-11 1L8.5 8.5l.94-2.06 2.06-.94-2.06-.94L8.5 2.5l-.94 2.06-2.06.94zm10 10l.94 2.06.94-2.06 2.06-.94-2.06-.94-.94-2.06-.94 2.06-2.06.94z\"/><path d=\"M17.41 7.96l-1.37-1.37c-.4-.4-.92-.59-1.43-.59-.52 0-1.04.2-1.43.59L10.3 9.45l-7.72 7.72c-.78.78-.78 2.05 0 2.83L4 21.41c.39.39.9.59 1.41.59.51 0 1.02-.2 1.41-.59l7.78-7.78 2.81-2.81c.8-.78.8-2.07 0-2.86zM5.41 20L4 18.59l7.72-7.72 1.47 1.35L5.41 20z\"/>\n",
              "  </svg>\n",
              "      </button>\n",
              "      \n",
              "  <style>\n",
              "    .colab-df-container {\n",
              "      display:flex;\n",
              "      flex-wrap:wrap;\n",
              "      gap: 12px;\n",
              "    }\n",
              "\n",
              "    .colab-df-convert {\n",
              "      background-color: #E8F0FE;\n",
              "      border: none;\n",
              "      border-radius: 50%;\n",
              "      cursor: pointer;\n",
              "      display: none;\n",
              "      fill: #1967D2;\n",
              "      height: 32px;\n",
              "      padding: 0 0 0 0;\n",
              "      width: 32px;\n",
              "    }\n",
              "\n",
              "    .colab-df-convert:hover {\n",
              "      background-color: #E2EBFA;\n",
              "      box-shadow: 0px 1px 2px rgba(60, 64, 67, 0.3), 0px 1px 3px 1px rgba(60, 64, 67, 0.15);\n",
              "      fill: #174EA6;\n",
              "    }\n",
              "\n",
              "    [theme=dark] .colab-df-convert {\n",
              "      background-color: #3B4455;\n",
              "      fill: #D2E3FC;\n",
              "    }\n",
              "\n",
              "    [theme=dark] .colab-df-convert:hover {\n",
              "      background-color: #434B5C;\n",
              "      box-shadow: 0px 1px 3px 1px rgba(0, 0, 0, 0.15);\n",
              "      filter: drop-shadow(0px 1px 2px rgba(0, 0, 0, 0.3));\n",
              "      fill: #FFFFFF;\n",
              "    }\n",
              "  </style>\n",
              "\n",
              "      <script>\n",
              "        const buttonEl =\n",
              "          document.querySelector('#df-a2f9e524-843b-4a7d-a404-6daf33807321 button.colab-df-convert');\n",
              "        buttonEl.style.display =\n",
              "          google.colab.kernel.accessAllowed ? 'block' : 'none';\n",
              "\n",
              "        async function convertToInteractive(key) {\n",
              "          const element = document.querySelector('#df-a2f9e524-843b-4a7d-a404-6daf33807321');\n",
              "          const dataTable =\n",
              "            await google.colab.kernel.invokeFunction('convertToInteractive',\n",
              "                                                     [key], {});\n",
              "          if (!dataTable) return;\n",
              "\n",
              "          const docLinkHtml = 'Like what you see? Visit the ' +\n",
              "            '<a target=\"_blank\" href=https://colab.research.google.com/notebooks/data_table.ipynb>data table notebook</a>'\n",
              "            + ' to learn more about interactive tables.';\n",
              "          element.innerHTML = '';\n",
              "          dataTable['output_type'] = 'display_data';\n",
              "          await google.colab.output.renderOutput(dataTable, element);\n",
              "          const docLink = document.createElement('div');\n",
              "          docLink.innerHTML = docLinkHtml;\n",
              "          element.appendChild(docLink);\n",
              "        }\n",
              "      </script>\n",
              "    </div>\n",
              "  </div>\n",
              "  "
            ]
          },
          "metadata": {},
          "execution_count": 15
        }
      ]
    }
  ]
}