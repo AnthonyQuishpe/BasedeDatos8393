{
  "nbformat": 4,
  "nbformat_minor": 0,
  "metadata": {
    "colab": {
      "provenance": []
    },
    "kernelspec": {
      "name": "python3",
      "display_name": "Python 3"
    },
    "language_info": {
      "name": "python"
    }
  },
  "cells": [
    {
      "cell_type": "code",
      "execution_count": null,
      "metadata": {
        "colab": {
          "base_uri": "https://localhost:8080/"
        },
        "id": "2do6_NiXplvV",
        "outputId": "99c0248b-a0e5-4cc8-a10b-0106175c76f8"
      },
      "outputs": [
        {
          "output_type": "stream",
          "name": "stdout",
          "text": [
            "Looking in indexes: https://pypi.org/simple, https://us-python.pkg.dev/colab-wheels/public/simple/\n",
            "Requirement already satisfied: Faker in /usr/local/lib/python3.7/dist-packages (15.3.2)\n",
            "Requirement already satisfied: python-dateutil>=2.4 in /usr/local/lib/python3.7/dist-packages (from Faker) (2.8.2)\n",
            "Requirement already satisfied: typing-extensions>=3.10.0.1 in /usr/local/lib/python3.7/dist-packages (from Faker) (4.1.1)\n",
            "Requirement already satisfied: six>=1.5 in /usr/local/lib/python3.7/dist-packages (from python-dateutil>=2.4->Faker) (1.15.0)\n"
          ]
        }
      ],
      "source": [
        "#Instalamos libreria faker para la creacion de datos aleatorios\n",
        "!pip install Faker"
      ]
    },
    {
      "cell_type": "code",
      "source": [
        "#Importamos las librerias necesarias para la generación de datos.\n",
        "import pandas as pd\n",
        "import uuid\n",
        "import random\n",
        "from faker import Faker\n",
        "import datetime"
      ],
      "metadata": {
        "id": "WiMnWXoCqKYB"
      },
      "execution_count": null,
      "outputs": []
    },
    {
      "cell_type": "code",
      "source": [
        "#Creacion de variable para los 5000 datos\n",
        "unidadestaxi = 5000"
      ],
      "metadata": {
        "id": "8bhq9vB5qO-9"
      },
      "execution_count": null,
      "outputs": []
    },
    {
      "cell_type": "code",
      "source": [
        "# Una lista de 4 atributos\n",
        "features = [\n",
        "    \"IdUTaxi\",\n",
        "    \"NombreUTaxi\",\n",
        "    \"TelefonoUTaxi\",\n",
        "    \"StatusUTaxi\",\n",
        "]# Creamos un DF de los atributos\n",
        "df = pd.DataFrame(columns=features)"
      ],
      "metadata": {
        "id": "DeZ3F3JfqUkN"
      },
      "execution_count": null,
      "outputs": []
    },
    {
      "cell_type": "code",
      "source": [
        "df['IdUTaxi'] = [uuid.uuid4().hex for i in range(unidadestaxi)]"
      ],
      "metadata": {
        "id": "MQHlg_3mrERA"
      },
      "execution_count": null,
      "outputs": []
    },
    {
      "cell_type": "code",
      "source": [
        "#Hacer que los ID sean unicos para cada usuario.\n",
        "print(df['IdUTaxi'].nunique()==unidadestaxi)"
      ],
      "metadata": {
        "colab": {
          "base_uri": "https://localhost:8080/"
        },
        "id": "NGPkdHqLrGyn",
        "outputId": "b06da968-1d1f-4b9c-f882-8f28d7f4da47"
      },
      "execution_count": null,
      "outputs": [
        {
          "output_type": "stream",
          "name": "stdout",
          "text": [
            "True\n"
          ]
        }
      ]
    },
    {
      "cell_type": "code",
      "source": [
        "#Variables\n",
        "GeneroT = [\"Masculino\", \"Femenino\"]"
      ],
      "metadata": {
        "id": "E6ZhaAe8rQcm"
      },
      "execution_count": null,
      "outputs": []
    },
    {
      "cell_type": "code",
      "source": [
        "#Generación de los nombres de los usuarios.\n",
        "df['GeneroT']= random.choices(\n",
        "    GeneroT, \n",
        "    weights=(50,50), \n",
        "    k=unidadestaxi\n",
        ")"
      ],
      "metadata": {
        "id": "w3HoTXPBrUC7"
      },
      "execution_count": null,
      "outputs": []
    },
    {
      "cell_type": "code",
      "source": [
        "#Instancia Faker\n",
        "faker = Faker()\n",
        "#Creamos una función.\n",
        "def name_gen(GeneroT):\n",
        "    \"\"\"\n",
        "    Generamos los distintos nombres para los usuarios.\n",
        "    -------\n",
        "    Retorna el nombre del usuario\n",
        "    \"\"\"\n",
        "    #En caso de que el genero sea hombre nos retornara un nombre masculino\n",
        "    if GeneroT=='Masculino':\n",
        "        return faker.name_male()\n",
        "    #En caso de que el genero sea mujer nos retornara un nombre femenino\n",
        "    elif GeneroT=='Femenino':\n",
        "        return faker.name_female()\n",
        "    \n",
        "    return faker.name()#Generamos los nombres de los usuarios\n",
        "#Guardamos los nombres de los usuarios en todo el atributo\n",
        "df['NombreUTaxi'] = [name_gen(i) for i in df['GeneroT']]"
      ],
      "metadata": {
        "id": "8yVrG-dRrn_b"
      },
      "execution_count": null,
      "outputs": []
    },
    {
      "cell_type": "code",
      "source": [
        "import random as r\n",
        "from random import seed\n",
        "from datetime import datetime\n",
        "#Variable numero como string\n",
        "numero=[]\n",
        "size = 10\n",
        "for i in range(0, unidadestaxi): #Generación de números de teléfonos\n",
        "  random.seed(datetime.now())\n",
        "  valores = [0,1,2,3,4,5,6,7,8,9]#Números por los cual puede formarse la cadena\n",
        "  numero=(''.join([str(random.choice(valores)) for i in range(size)]))#Creación de los numeros\n",
        "  df.TelefonoUTaxi[i]=numero#Guardamos "
      ],
      "metadata": {
        "id": "V4N5hhr3rp1k"
      },
      "execution_count": null,
      "outputs": []
    },
    {
      "cell_type": "code",
      "source": [
        "# Verificamos el estado de la licencia.\n",
        "StatusUTaxi = [\"Disponible\", \"No Disponible\"]"
      ],
      "metadata": {
        "id": "aSsRaLDHr0O-"
      },
      "execution_count": null,
      "outputs": []
    },
    {
      "cell_type": "code",
      "source": [
        "df['StatusUTaxi']= random.choices(\n",
        "    StatusUTaxi, \n",
        "    weights=(90,10), \n",
        "    k=unidadestaxi\n",
        ")"
      ],
      "metadata": {
        "id": "tYpbEDFOsA6V"
      },
      "execution_count": null,
      "outputs": []
    },
    {
      "cell_type": "code",
      "source": [
        "#Guardamos todos los datos junto con sus atributos en un archivo csv.\n",
        "del(df['GeneroT'])\n",
        "df.to_csv('unidadestaxi.csv')\n",
        "df.head(10)"
      ],
      "metadata": {
        "colab": {
          "base_uri": "https://localhost:8080/",
          "height": 363
        },
        "id": "mUUb-j2Js7iY",
        "outputId": "8d9eb7f6-145c-4430-e85d-aac496edfa99"
      },
      "execution_count": null,
      "outputs": [
        {
          "output_type": "execute_result",
          "data": {
            "text/plain": [
              "                            IdUTaxi      NombreUTaxi TelefonoUTaxi StatusUTaxi\n",
              "0  e96a87da060d4759a4c36c7c47d91143   Miguel Santana    2963139700  Disponible\n",
              "1  b22c7ad293624965bff9b8427066eb8b  Andrew Randolph    0925747304  Disponible\n",
              "2  3ece2283ab054cfd8a3af48b7f4a246f      Kevin Salas    8593608663  Disponible\n",
              "3  f87e403629d840b69b3eb15ba53a32ea      Amanda Lang    7443406012  Disponible\n",
              "4  997d9217d6ec4680b4c90e2644414183      Megan Davis    8614310026  Disponible\n",
              "5  cf28452eecbc432d98933bda4e4cfdc2       Brent Hill    6128175708  Disponible\n",
              "6  839ba66d91fd46e4af98244717641035     David Garcia    5359681200  Disponible\n",
              "7  cc4ab8d0c7f249d09c2668a25efe82f7   Kevin Schaefer    8780373495  Disponible\n",
              "8  1374a9a8c266405b9253132b3f81bfad     Derek Kelley    7386184617  Disponible\n",
              "9  f53628ee6aab418bb6d939889bcc42e8    David Sanders    5510494102  Disponible"
            ],
            "text/html": [
              "\n",
              "  <div id=\"df-e5614c80-4906-4ba5-83b8-5420f7cb1060\">\n",
              "    <div class=\"colab-df-container\">\n",
              "      <div>\n",
              "<style scoped>\n",
              "    .dataframe tbody tr th:only-of-type {\n",
              "        vertical-align: middle;\n",
              "    }\n",
              "\n",
              "    .dataframe tbody tr th {\n",
              "        vertical-align: top;\n",
              "    }\n",
              "\n",
              "    .dataframe thead th {\n",
              "        text-align: right;\n",
              "    }\n",
              "</style>\n",
              "<table border=\"1\" class=\"dataframe\">\n",
              "  <thead>\n",
              "    <tr style=\"text-align: right;\">\n",
              "      <th></th>\n",
              "      <th>IdUTaxi</th>\n",
              "      <th>NombreUTaxi</th>\n",
              "      <th>TelefonoUTaxi</th>\n",
              "      <th>StatusUTaxi</th>\n",
              "    </tr>\n",
              "  </thead>\n",
              "  <tbody>\n",
              "    <tr>\n",
              "      <th>0</th>\n",
              "      <td>e96a87da060d4759a4c36c7c47d91143</td>\n",
              "      <td>Miguel Santana</td>\n",
              "      <td>2963139700</td>\n",
              "      <td>Disponible</td>\n",
              "    </tr>\n",
              "    <tr>\n",
              "      <th>1</th>\n",
              "      <td>b22c7ad293624965bff9b8427066eb8b</td>\n",
              "      <td>Andrew Randolph</td>\n",
              "      <td>0925747304</td>\n",
              "      <td>Disponible</td>\n",
              "    </tr>\n",
              "    <tr>\n",
              "      <th>2</th>\n",
              "      <td>3ece2283ab054cfd8a3af48b7f4a246f</td>\n",
              "      <td>Kevin Salas</td>\n",
              "      <td>8593608663</td>\n",
              "      <td>Disponible</td>\n",
              "    </tr>\n",
              "    <tr>\n",
              "      <th>3</th>\n",
              "      <td>f87e403629d840b69b3eb15ba53a32ea</td>\n",
              "      <td>Amanda Lang</td>\n",
              "      <td>7443406012</td>\n",
              "      <td>Disponible</td>\n",
              "    </tr>\n",
              "    <tr>\n",
              "      <th>4</th>\n",
              "      <td>997d9217d6ec4680b4c90e2644414183</td>\n",
              "      <td>Megan Davis</td>\n",
              "      <td>8614310026</td>\n",
              "      <td>Disponible</td>\n",
              "    </tr>\n",
              "    <tr>\n",
              "      <th>5</th>\n",
              "      <td>cf28452eecbc432d98933bda4e4cfdc2</td>\n",
              "      <td>Brent Hill</td>\n",
              "      <td>6128175708</td>\n",
              "      <td>Disponible</td>\n",
              "    </tr>\n",
              "    <tr>\n",
              "      <th>6</th>\n",
              "      <td>839ba66d91fd46e4af98244717641035</td>\n",
              "      <td>David Garcia</td>\n",
              "      <td>5359681200</td>\n",
              "      <td>Disponible</td>\n",
              "    </tr>\n",
              "    <tr>\n",
              "      <th>7</th>\n",
              "      <td>cc4ab8d0c7f249d09c2668a25efe82f7</td>\n",
              "      <td>Kevin Schaefer</td>\n",
              "      <td>8780373495</td>\n",
              "      <td>Disponible</td>\n",
              "    </tr>\n",
              "    <tr>\n",
              "      <th>8</th>\n",
              "      <td>1374a9a8c266405b9253132b3f81bfad</td>\n",
              "      <td>Derek Kelley</td>\n",
              "      <td>7386184617</td>\n",
              "      <td>Disponible</td>\n",
              "    </tr>\n",
              "    <tr>\n",
              "      <th>9</th>\n",
              "      <td>f53628ee6aab418bb6d939889bcc42e8</td>\n",
              "      <td>David Sanders</td>\n",
              "      <td>5510494102</td>\n",
              "      <td>Disponible</td>\n",
              "    </tr>\n",
              "  </tbody>\n",
              "</table>\n",
              "</div>\n",
              "      <button class=\"colab-df-convert\" onclick=\"convertToInteractive('df-e5614c80-4906-4ba5-83b8-5420f7cb1060')\"\n",
              "              title=\"Convert this dataframe to an interactive table.\"\n",
              "              style=\"display:none;\">\n",
              "        \n",
              "  <svg xmlns=\"http://www.w3.org/2000/svg\" height=\"24px\"viewBox=\"0 0 24 24\"\n",
              "       width=\"24px\">\n",
              "    <path d=\"M0 0h24v24H0V0z\" fill=\"none\"/>\n",
              "    <path d=\"M18.56 5.44l.94 2.06.94-2.06 2.06-.94-2.06-.94-.94-2.06-.94 2.06-2.06.94zm-11 1L8.5 8.5l.94-2.06 2.06-.94-2.06-.94L8.5 2.5l-.94 2.06-2.06.94zm10 10l.94 2.06.94-2.06 2.06-.94-2.06-.94-.94-2.06-.94 2.06-2.06.94z\"/><path d=\"M17.41 7.96l-1.37-1.37c-.4-.4-.92-.59-1.43-.59-.52 0-1.04.2-1.43.59L10.3 9.45l-7.72 7.72c-.78.78-.78 2.05 0 2.83L4 21.41c.39.39.9.59 1.41.59.51 0 1.02-.2 1.41-.59l7.78-7.78 2.81-2.81c.8-.78.8-2.07 0-2.86zM5.41 20L4 18.59l7.72-7.72 1.47 1.35L5.41 20z\"/>\n",
              "  </svg>\n",
              "      </button>\n",
              "      \n",
              "  <style>\n",
              "    .colab-df-container {\n",
              "      display:flex;\n",
              "      flex-wrap:wrap;\n",
              "      gap: 12px;\n",
              "    }\n",
              "\n",
              "    .colab-df-convert {\n",
              "      background-color: #E8F0FE;\n",
              "      border: none;\n",
              "      border-radius: 50%;\n",
              "      cursor: pointer;\n",
              "      display: none;\n",
              "      fill: #1967D2;\n",
              "      height: 32px;\n",
              "      padding: 0 0 0 0;\n",
              "      width: 32px;\n",
              "    }\n",
              "\n",
              "    .colab-df-convert:hover {\n",
              "      background-color: #E2EBFA;\n",
              "      box-shadow: 0px 1px 2px rgba(60, 64, 67, 0.3), 0px 1px 3px 1px rgba(60, 64, 67, 0.15);\n",
              "      fill: #174EA6;\n",
              "    }\n",
              "\n",
              "    [theme=dark] .colab-df-convert {\n",
              "      background-color: #3B4455;\n",
              "      fill: #D2E3FC;\n",
              "    }\n",
              "\n",
              "    [theme=dark] .colab-df-convert:hover {\n",
              "      background-color: #434B5C;\n",
              "      box-shadow: 0px 1px 3px 1px rgba(0, 0, 0, 0.15);\n",
              "      filter: drop-shadow(0px 1px 2px rgba(0, 0, 0, 0.3));\n",
              "      fill: #FFFFFF;\n",
              "    }\n",
              "  </style>\n",
              "\n",
              "      <script>\n",
              "        const buttonEl =\n",
              "          document.querySelector('#df-e5614c80-4906-4ba5-83b8-5420f7cb1060 button.colab-df-convert');\n",
              "        buttonEl.style.display =\n",
              "          google.colab.kernel.accessAllowed ? 'block' : 'none';\n",
              "\n",
              "        async function convertToInteractive(key) {\n",
              "          const element = document.querySelector('#df-e5614c80-4906-4ba5-83b8-5420f7cb1060');\n",
              "          const dataTable =\n",
              "            await google.colab.kernel.invokeFunction('convertToInteractive',\n",
              "                                                     [key], {});\n",
              "          if (!dataTable) return;\n",
              "\n",
              "          const docLinkHtml = 'Like what you see? Visit the ' +\n",
              "            '<a target=\"_blank\" href=https://colab.research.google.com/notebooks/data_table.ipynb>data table notebook</a>'\n",
              "            + ' to learn more about interactive tables.';\n",
              "          element.innerHTML = '';\n",
              "          dataTable['output_type'] = 'display_data';\n",
              "          await google.colab.output.renderOutput(dataTable, element);\n",
              "          const docLink = document.createElement('div');\n",
              "          docLink.innerHTML = docLinkHtml;\n",
              "          element.appendChild(docLink);\n",
              "        }\n",
              "      </script>\n",
              "    </div>\n",
              "  </div>\n",
              "  "
            ]
          },
          "metadata": {},
          "execution_count": 14
        }
      ]
    }
  ]
}