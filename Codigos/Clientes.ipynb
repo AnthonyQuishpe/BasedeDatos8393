{
  "nbformat": 4,
  "nbformat_minor": 0,
  "metadata": {
    "colab": {
      "provenance": []
    },
    "kernelspec": {
      "name": "python3",
      "display_name": "Python 3"
    },
    "language_info": {
      "name": "python"
    }
  },
  "cells": [
    {
      "cell_type": "code",
      "execution_count": null,
      "metadata": {
        "colab": {
          "base_uri": "https://localhost:8080/"
        },
        "id": "SLoKaGqxf_bc",
        "outputId": "4ea9b754-b9ea-4222-b888-4f701ce7b04f"
      },
      "outputs": [
        {
          "output_type": "stream",
          "name": "stdout",
          "text": [
            "Looking in indexes: https://pypi.org/simple, https://us-python.pkg.dev/colab-wheels/public/simple/\n",
            "Requirement already satisfied: Faker in /usr/local/lib/python3.7/dist-packages (15.3.2)\n",
            "Requirement already satisfied: typing-extensions>=3.10.0.1 in /usr/local/lib/python3.7/dist-packages (from Faker) (4.1.1)\n",
            "Requirement already satisfied: python-dateutil>=2.4 in /usr/local/lib/python3.7/dist-packages (from Faker) (2.8.2)\n",
            "Requirement already satisfied: six>=1.5 in /usr/local/lib/python3.7/dist-packages (from python-dateutil>=2.4->Faker) (1.15.0)\n"
          ]
        }
      ],
      "source": [
        "#Instalamos libreria faker para la creacion de datos aleatorios\n",
        "!pip install Faker"
      ]
    },
    {
      "cell_type": "code",
      "source": [
        "#Importamos las librerias necesarias para la generación de datos.\n",
        "import pandas as pd\n",
        "import uuid\n",
        "import random\n",
        "from faker import Faker\n",
        "import datetime"
      ],
      "metadata": {
        "id": "SIoz914AgGLo"
      },
      "execution_count": null,
      "outputs": []
    },
    {
      "cell_type": "code",
      "source": [
        "#Creacion de variable para los 5000 datos\n",
        "clientes = 5000"
      ],
      "metadata": {
        "id": "AcQaJ5NygIRK"
      },
      "execution_count": null,
      "outputs": []
    },
    {
      "cell_type": "code",
      "source": [
        "# Una lista de 6 atributos\n",
        "features = [\n",
        "    \"IdCliente\",\n",
        "    \"GeneroC\",\n",
        "    \"NombreCl\",\n",
        "    \"CorreoCl\",\n",
        "    \"TelefonoCl\",\n",
        "    \"TipoCl\",\n",
        "]# Creamos un DF de los atributos\n",
        "df = pd.DataFrame(columns=features)"
      ],
      "metadata": {
        "id": "bIYVcSu8gL3P"
      },
      "execution_count": null,
      "outputs": []
    },
    {
      "cell_type": "code",
      "source": [
        "df['IdCliente'] = [uuid.uuid4().hex for i in range(clientes)]"
      ],
      "metadata": {
        "id": "cnx9bYN6gdnu"
      },
      "execution_count": null,
      "outputs": []
    },
    {
      "cell_type": "code",
      "source": [
        "#Hacer que los ID sean unicos para cada usuario.\n",
        "print(df['IdCliente'].nunique()==clientes)"
      ],
      "metadata": {
        "colab": {
          "base_uri": "https://localhost:8080/"
        },
        "id": "vWt6gkxPgiO6",
        "outputId": "b311a9b1-264c-426e-e63a-85ca10894c8f"
      },
      "execution_count": null,
      "outputs": [
        {
          "output_type": "stream",
          "name": "stdout",
          "text": [
            "True\n"
          ]
        }
      ]
    },
    {
      "cell_type": "code",
      "source": [
        "#Variables\n",
        "GeneroC = [\"Masculino\", \"Femenino\"]"
      ],
      "metadata": {
        "id": "Go7bO4bbgt5Z"
      },
      "execution_count": null,
      "outputs": []
    },
    {
      "cell_type": "code",
      "source": [
        "#Generación de los nombres de los usuarios.\n",
        "df['GeneroC']= random.choices(\n",
        "    GeneroC, \n",
        "    weights=(50,50), \n",
        "    k=clientes\n",
        ")"
      ],
      "metadata": {
        "id": "bd1AEDu7g6gE"
      },
      "execution_count": null,
      "outputs": []
    },
    {
      "cell_type": "code",
      "source": [
        "#Instancia Faker\n",
        "faker = Faker()\n",
        "#Creamos una función.\n",
        "def name_gen(GeneroC):\n",
        "    \"\"\"\n",
        "    Generamos los distintos nombres para los usuarios.\n",
        "    -------\n",
        "    Retorna el nombre del usuario\n",
        "    \"\"\"\n",
        "    #En caso de que el genero sea hombre nos retornara un nombre masculino\n",
        "    if GeneroC=='Masculino':\n",
        "        return faker.name_male()\n",
        "    #En caso de que el genero sea mujer nos retornara un nombre femenino\n",
        "    elif GeneroC=='Femenino':\n",
        "        return faker.name_female()\n",
        "    \n",
        "    return faker.name()#Generamos los nombres de los usuarios\n",
        "#Guardamos los nombres de los usuarios en todo el atributo\n",
        "df['NombreCl'] = [name_gen(i) for i in df['GeneroC']]"
      ],
      "metadata": {
        "id": "-gpLw8RahDno"
      },
      "execution_count": null,
      "outputs": []
    },
    {
      "cell_type": "code",
      "source": [
        "def emailGen(name, duplicateFound=False):\n",
        "    \"\"\"\n",
        "    Genera una dirección de correo electrónico aleatoria basada en el nombre dado.\n",
        "    \n",
        "    \"\"\"\n",
        "    # Dominio para usar\n",
        "    dom = \"@taxi.ruta.com\"\n",
        "    \n",
        "    # Minusculas y division\n",
        "    name = name.lower().split(\" \")\n",
        "    #Caracteres random en el correo\n",
        "    chars = [\".\", \"_\"]\n",
        "    \n",
        "    new_name = name[0] + random.choice(chars) + name[1] \n",
        "    \n",
        "    #Distinguir para los duplicados de los correos\n",
        "    if duplicateFound:\n",
        "        #Numero aleatorio para insertar al final\n",
        "        num = random.randint(0,100)\n",
        "        #Insertar al final\n",
        "        new_name = new_name + str(num)\n",
        "    #Devolver la dirección de correo electrónico\n",
        "    return new_name + dom"
      ],
      "metadata": {
        "id": "sBF6RrAhhVtG"
      },
      "execution_count": null,
      "outputs": []
    },
    {
      "cell_type": "code",
      "source": [
        "#Variable para los correos electrónicos\n",
        "emails = []\n",
        "\n",
        "for NombreCl in df['NombreCl']:\n",
        "    \n",
        "    # Generamos el correo\n",
        "    email = emailGen(NombreCl)\n",
        "    # Bucle hasta que se genera un correo electrónico único\n",
        "    while email in emails:\n",
        "        # Crear un correo electrónico con un número aleatorio\n",
        "        email = emailGen(NombreCl, duplicateFound=True)\n",
        "    \n",
        "    # Adjuntar el nuevo correo \n",
        "    emails.append(email)\n",
        "    \n",
        "df['CorreoCl'] = emails #Guardamos los correos "
      ],
      "metadata": {
        "id": "m-HT_bxHhmyB"
      },
      "execution_count": null,
      "outputs": []
    },
    {
      "cell_type": "code",
      "source": [
        "import random as r\n",
        "from random import seed\n",
        "from datetime import datetime\n",
        "#Variable numero como string\n",
        "numero=[]\n",
        "size = 10\n",
        "for i in range(0, clientes): #Generación de números de teléfonos\n",
        "  random.seed(datetime.now())\n",
        "  valores = [0,1,2,3,4,5,6,7,8,9]#Números por los cual puede formarse la cadena\n",
        "  numero=(''.join([str(random.choice(valores)) for i in range(size)]))#Creación de los numeros\n",
        "  df.TelefonoCl[i]=numero#Guardamos "
      ],
      "metadata": {
        "id": "qZ_RHV3Qk8tB"
      },
      "execution_count": null,
      "outputs": []
    },
    {
      "cell_type": "code",
      "source": [
        "#Los diferentes tipos de usuario\n",
        "TipoCl = ['Menor de edad','Jovenes','Tercera Edad'] \n",
        "df['TipoCl'] = random.choices( \n",
        "    TipoCl, \n",
        "    weights=(35,35,40), #Porcentaje de aleatoriedad\n",
        "    k=clientes\n",
        ")"
      ],
      "metadata": {
        "id": "LkzV5jzahw4Q"
      },
      "execution_count": null,
      "outputs": []
    },
    {
      "cell_type": "code",
      "source": [
        "#Guardamos todos los datos junto con sus atributos en un archivo csv.\n",
        "df.to_csv('clientes.csv')\n",
        "df.head(10)"
      ],
      "metadata": {
        "colab": {
          "base_uri": "https://localhost:8080/",
          "height": 363
        },
        "id": "xhYv4u00idWg",
        "outputId": "01a32f1a-abc4-4fee-8920-c277a3a5dca5"
      },
      "execution_count": null,
      "outputs": [
        {
          "output_type": "execute_result",
          "data": {
            "text/plain": [
              "                          IdCliente    GeneroC           NombreCl  \\\n",
              "0  8b7d6ce6598442eea018eb98e854b0f8   Femenino   Elizabeth Miller   \n",
              "1  e9816a62b0d14827b07e749e4564ecb8  Masculino       Ryan Bridges   \n",
              "2  ed67a8d997674640a0fe1eeb67efcd35  Masculino     Richard Santos   \n",
              "3  2b157cd283d644feb29dc62cf593ccb8   Femenino      Denise Davies   \n",
              "4  d2f4abd4df9a4ce7af4811349ba85ceb   Femenino    Kathleen Graves   \n",
              "5  bcbcd41e0be841e189884a8e8342e96d   Femenino        Diana Brown   \n",
              "6  3d2d9a3702ea4523b8cc5824c3fcbce7   Femenino     Jennifer Kelly   \n",
              "7  acda93f8469a4b08bc1abac0ad0fcf01   Femenino        Donna David   \n",
              "8  d421edbdf15346a4a3de5093c1a25861   Femenino       Roberta Carr   \n",
              "9  a320d2c6876243a3b8e562895828cd84   Femenino  Samantha Sheppard   \n",
              "\n",
              "                          CorreoCl  TelefonoCl         TipoCl  \n",
              "0   elizabeth.miller@taxi.ruta.com  8820451937  Menor de edad  \n",
              "1       ryan_bridges@taxi.ruta.com  4707016882   Tercera Edad  \n",
              "2     richard.santos@taxi.ruta.com  9807477145        Jovenes  \n",
              "3      denise_davies@taxi.ruta.com  5784861269   Tercera Edad  \n",
              "4    kathleen.graves@taxi.ruta.com  7068186128        Jovenes  \n",
              "5        diana.brown@taxi.ruta.com  7350728028        Jovenes  \n",
              "6     jennifer.kelly@taxi.ruta.com  2630069773   Tercera Edad  \n",
              "7        donna.david@taxi.ruta.com  7114829420        Jovenes  \n",
              "8       roberta_carr@taxi.ruta.com  2884787367   Tercera Edad  \n",
              "9  samantha.sheppard@taxi.ruta.com  6204526335   Tercera Edad  "
            ],
            "text/html": [
              "\n",
              "  <div id=\"df-4a21c506-fc73-400d-90f4-6eea44ac8d85\">\n",
              "    <div class=\"colab-df-container\">\n",
              "      <div>\n",
              "<style scoped>\n",
              "    .dataframe tbody tr th:only-of-type {\n",
              "        vertical-align: middle;\n",
              "    }\n",
              "\n",
              "    .dataframe tbody tr th {\n",
              "        vertical-align: top;\n",
              "    }\n",
              "\n",
              "    .dataframe thead th {\n",
              "        text-align: right;\n",
              "    }\n",
              "</style>\n",
              "<table border=\"1\" class=\"dataframe\">\n",
              "  <thead>\n",
              "    <tr style=\"text-align: right;\">\n",
              "      <th></th>\n",
              "      <th>IdCliente</th>\n",
              "      <th>GeneroC</th>\n",
              "      <th>NombreCl</th>\n",
              "      <th>CorreoCl</th>\n",
              "      <th>TelefonoCl</th>\n",
              "      <th>TipoCl</th>\n",
              "    </tr>\n",
              "  </thead>\n",
              "  <tbody>\n",
              "    <tr>\n",
              "      <th>0</th>\n",
              "      <td>8b7d6ce6598442eea018eb98e854b0f8</td>\n",
              "      <td>Femenino</td>\n",
              "      <td>Elizabeth Miller</td>\n",
              "      <td>elizabeth.miller@taxi.ruta.com</td>\n",
              "      <td>8820451937</td>\n",
              "      <td>Menor de edad</td>\n",
              "    </tr>\n",
              "    <tr>\n",
              "      <th>1</th>\n",
              "      <td>e9816a62b0d14827b07e749e4564ecb8</td>\n",
              "      <td>Masculino</td>\n",
              "      <td>Ryan Bridges</td>\n",
              "      <td>ryan_bridges@taxi.ruta.com</td>\n",
              "      <td>4707016882</td>\n",
              "      <td>Tercera Edad</td>\n",
              "    </tr>\n",
              "    <tr>\n",
              "      <th>2</th>\n",
              "      <td>ed67a8d997674640a0fe1eeb67efcd35</td>\n",
              "      <td>Masculino</td>\n",
              "      <td>Richard Santos</td>\n",
              "      <td>richard.santos@taxi.ruta.com</td>\n",
              "      <td>9807477145</td>\n",
              "      <td>Jovenes</td>\n",
              "    </tr>\n",
              "    <tr>\n",
              "      <th>3</th>\n",
              "      <td>2b157cd283d644feb29dc62cf593ccb8</td>\n",
              "      <td>Femenino</td>\n",
              "      <td>Denise Davies</td>\n",
              "      <td>denise_davies@taxi.ruta.com</td>\n",
              "      <td>5784861269</td>\n",
              "      <td>Tercera Edad</td>\n",
              "    </tr>\n",
              "    <tr>\n",
              "      <th>4</th>\n",
              "      <td>d2f4abd4df9a4ce7af4811349ba85ceb</td>\n",
              "      <td>Femenino</td>\n",
              "      <td>Kathleen Graves</td>\n",
              "      <td>kathleen.graves@taxi.ruta.com</td>\n",
              "      <td>7068186128</td>\n",
              "      <td>Jovenes</td>\n",
              "    </tr>\n",
              "    <tr>\n",
              "      <th>5</th>\n",
              "      <td>bcbcd41e0be841e189884a8e8342e96d</td>\n",
              "      <td>Femenino</td>\n",
              "      <td>Diana Brown</td>\n",
              "      <td>diana.brown@taxi.ruta.com</td>\n",
              "      <td>7350728028</td>\n",
              "      <td>Jovenes</td>\n",
              "    </tr>\n",
              "    <tr>\n",
              "      <th>6</th>\n",
              "      <td>3d2d9a3702ea4523b8cc5824c3fcbce7</td>\n",
              "      <td>Femenino</td>\n",
              "      <td>Jennifer Kelly</td>\n",
              "      <td>jennifer.kelly@taxi.ruta.com</td>\n",
              "      <td>2630069773</td>\n",
              "      <td>Tercera Edad</td>\n",
              "    </tr>\n",
              "    <tr>\n",
              "      <th>7</th>\n",
              "      <td>acda93f8469a4b08bc1abac0ad0fcf01</td>\n",
              "      <td>Femenino</td>\n",
              "      <td>Donna David</td>\n",
              "      <td>donna.david@taxi.ruta.com</td>\n",
              "      <td>7114829420</td>\n",
              "      <td>Jovenes</td>\n",
              "    </tr>\n",
              "    <tr>\n",
              "      <th>8</th>\n",
              "      <td>d421edbdf15346a4a3de5093c1a25861</td>\n",
              "      <td>Femenino</td>\n",
              "      <td>Roberta Carr</td>\n",
              "      <td>roberta_carr@taxi.ruta.com</td>\n",
              "      <td>2884787367</td>\n",
              "      <td>Tercera Edad</td>\n",
              "    </tr>\n",
              "    <tr>\n",
              "      <th>9</th>\n",
              "      <td>a320d2c6876243a3b8e562895828cd84</td>\n",
              "      <td>Femenino</td>\n",
              "      <td>Samantha Sheppard</td>\n",
              "      <td>samantha.sheppard@taxi.ruta.com</td>\n",
              "      <td>6204526335</td>\n",
              "      <td>Tercera Edad</td>\n",
              "    </tr>\n",
              "  </tbody>\n",
              "</table>\n",
              "</div>\n",
              "      <button class=\"colab-df-convert\" onclick=\"convertToInteractive('df-4a21c506-fc73-400d-90f4-6eea44ac8d85')\"\n",
              "              title=\"Convert this dataframe to an interactive table.\"\n",
              "              style=\"display:none;\">\n",
              "        \n",
              "  <svg xmlns=\"http://www.w3.org/2000/svg\" height=\"24px\"viewBox=\"0 0 24 24\"\n",
              "       width=\"24px\">\n",
              "    <path d=\"M0 0h24v24H0V0z\" fill=\"none\"/>\n",
              "    <path d=\"M18.56 5.44l.94 2.06.94-2.06 2.06-.94-2.06-.94-.94-2.06-.94 2.06-2.06.94zm-11 1L8.5 8.5l.94-2.06 2.06-.94-2.06-.94L8.5 2.5l-.94 2.06-2.06.94zm10 10l.94 2.06.94-2.06 2.06-.94-2.06-.94-.94-2.06-.94 2.06-2.06.94z\"/><path d=\"M17.41 7.96l-1.37-1.37c-.4-.4-.92-.59-1.43-.59-.52 0-1.04.2-1.43.59L10.3 9.45l-7.72 7.72c-.78.78-.78 2.05 0 2.83L4 21.41c.39.39.9.59 1.41.59.51 0 1.02-.2 1.41-.59l7.78-7.78 2.81-2.81c.8-.78.8-2.07 0-2.86zM5.41 20L4 18.59l7.72-7.72 1.47 1.35L5.41 20z\"/>\n",
              "  </svg>\n",
              "      </button>\n",
              "      \n",
              "  <style>\n",
              "    .colab-df-container {\n",
              "      display:flex;\n",
              "      flex-wrap:wrap;\n",
              "      gap: 12px;\n",
              "    }\n",
              "\n",
              "    .colab-df-convert {\n",
              "      background-color: #E8F0FE;\n",
              "      border: none;\n",
              "      border-radius: 50%;\n",
              "      cursor: pointer;\n",
              "      display: none;\n",
              "      fill: #1967D2;\n",
              "      height: 32px;\n",
              "      padding: 0 0 0 0;\n",
              "      width: 32px;\n",
              "    }\n",
              "\n",
              "    .colab-df-convert:hover {\n",
              "      background-color: #E2EBFA;\n",
              "      box-shadow: 0px 1px 2px rgba(60, 64, 67, 0.3), 0px 1px 3px 1px rgba(60, 64, 67, 0.15);\n",
              "      fill: #174EA6;\n",
              "    }\n",
              "\n",
              "    [theme=dark] .colab-df-convert {\n",
              "      background-color: #3B4455;\n",
              "      fill: #D2E3FC;\n",
              "    }\n",
              "\n",
              "    [theme=dark] .colab-df-convert:hover {\n",
              "      background-color: #434B5C;\n",
              "      box-shadow: 0px 1px 3px 1px rgba(0, 0, 0, 0.15);\n",
              "      filter: drop-shadow(0px 1px 2px rgba(0, 0, 0, 0.3));\n",
              "      fill: #FFFFFF;\n",
              "    }\n",
              "  </style>\n",
              "\n",
              "      <script>\n",
              "        const buttonEl =\n",
              "          document.querySelector('#df-4a21c506-fc73-400d-90f4-6eea44ac8d85 button.colab-df-convert');\n",
              "        buttonEl.style.display =\n",
              "          google.colab.kernel.accessAllowed ? 'block' : 'none';\n",
              "\n",
              "        async function convertToInteractive(key) {\n",
              "          const element = document.querySelector('#df-4a21c506-fc73-400d-90f4-6eea44ac8d85');\n",
              "          const dataTable =\n",
              "            await google.colab.kernel.invokeFunction('convertToInteractive',\n",
              "                                                     [key], {});\n",
              "          if (!dataTable) return;\n",
              "\n",
              "          const docLinkHtml = 'Like what you see? Visit the ' +\n",
              "            '<a target=\"_blank\" href=https://colab.research.google.com/notebooks/data_table.ipynb>data table notebook</a>'\n",
              "            + ' to learn more about interactive tables.';\n",
              "          element.innerHTML = '';\n",
              "          dataTable['output_type'] = 'display_data';\n",
              "          await google.colab.output.renderOutput(dataTable, element);\n",
              "          const docLink = document.createElement('div');\n",
              "          docLink.innerHTML = docLinkHtml;\n",
              "          element.appendChild(docLink);\n",
              "        }\n",
              "      </script>\n",
              "    </div>\n",
              "  </div>\n",
              "  "
            ]
          },
          "metadata": {},
          "execution_count": 15
        }
      ]
    }
  ]
}