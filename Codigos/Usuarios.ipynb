{
  "nbformat": 4,
  "nbformat_minor": 0,
  "metadata": {
    "colab": {
      "provenance": []
    },
    "kernelspec": {
      "name": "python3",
      "display_name": "Python 3"
    },
    "language_info": {
      "name": "python"
    }
  },
  "cells": [
    {
      "cell_type": "code",
      "execution_count": null,
      "metadata": {
        "colab": {
          "base_uri": "https://localhost:8080/"
        },
        "id": "PE_lj_-4f6vk",
        "outputId": "b2dcda0a-1d20-4fa0-a249-12ce7a74c34d"
      },
      "outputs": [
        {
          "output_type": "stream",
          "name": "stdout",
          "text": [
            "Looking in indexes: https://pypi.org/simple, https://us-python.pkg.dev/colab-wheels/public/simple/\n",
            "Requirement already satisfied: Faker in /usr/local/lib/python3.7/dist-packages (15.3.2)\n",
            "Requirement already satisfied: python-dateutil>=2.4 in /usr/local/lib/python3.7/dist-packages (from Faker) (2.8.2)\n",
            "Requirement already satisfied: typing-extensions>=3.10.0.1 in /usr/local/lib/python3.7/dist-packages (from Faker) (4.1.1)\n",
            "Requirement already satisfied: six>=1.5 in /usr/local/lib/python3.7/dist-packages (from python-dateutil>=2.4->Faker) (1.15.0)\n"
          ]
        }
      ],
      "source": [
        "#Instalamos libreria faker para la creacion de datos aleatorios\n",
        "!pip install Faker"
      ]
    },
    {
      "cell_type": "code",
      "source": [
        "import pandas as pd\n",
        "import uuid\n",
        "import random\n",
        "from faker import Faker\n",
        "import datetime"
      ],
      "metadata": {
        "id": "iu-an09pgKIX"
      },
      "execution_count": null,
      "outputs": []
    },
    {
      "cell_type": "code",
      "source": [
        "num_usuarios = 5000"
      ],
      "metadata": {
        "id": "Iq4eLU7WgMfF"
      },
      "execution_count": null,
      "outputs": []
    },
    {
      "cell_type": "code",
      "source": [
        "# Una lista de 6 atributos\n",
        "features = [\n",
        "    \"IdUsuario\",\n",
        "    \"NombreU\",\n",
        "    \"GeneroU\",\n",
        "    \"TelefonoU\",\n",
        "    \"CorreoU\",\n",
        "    \"LicenciaU\",\n",
        "]# Creamos un DF de los atributos\n",
        "df = pd.DataFrame(columns=features)"
      ],
      "metadata": {
        "id": "lmtF_5kngT-d"
      },
      "execution_count": null,
      "outputs": []
    },
    {
      "cell_type": "code",
      "source": [
        "#Generacion de ID unicos\n",
        "df['IdUsuario'] = [uuid.uuid4().hex for i in range(num_usuarios)]"
      ],
      "metadata": {
        "id": "skv3wDFPhxQm"
      },
      "execution_count": null,
      "outputs": []
    },
    {
      "cell_type": "code",
      "source": [
        "print(df['IdUsuario'].nunique()==num_usuarios)"
      ],
      "metadata": {
        "colab": {
          "base_uri": "https://localhost:8080/"
        },
        "id": "UppZwvBsh4MF",
        "outputId": "768e009e-2c84-4e73-e50f-fc5c6dfeb829"
      },
      "execution_count": null,
      "outputs": [
        {
          "output_type": "stream",
          "name": "stdout",
          "text": [
            "True\n"
          ]
        }
      ]
    },
    {
      "cell_type": "code",
      "source": [
        "#INSTANCIA FAKER\n",
        "#Para crear nombres de los usuarios tanto hombres como mujeres.\n",
        "faker = Faker()\n",
        "\n",
        "def name_gen(genero):\n",
        "    \"\"\"\n",
        "    Generamos los distintos nombres de los usuarios\n",
        "    \"\"\"\n",
        "    if genero=='male': #Genero Masculino\n",
        "        return faker.name_male()\n",
        "    elif genero=='female': #Genero Femenino\n",
        "        return faker.name_female()\n",
        "    \n",
        "    return faker.name()#Creamos los nombres para cada usuario\n",
        "df['NombreU'] = [name_gen(i) for i in df['GeneroU']]"
      ],
      "metadata": {
        "id": "ke4rnHjjO4Io"
      },
      "execution_count": null,
      "outputs": []
    },
    {
      "cell_type": "code",
      "source": [
        "#Defino variable GeneroU para determinar si el masculino o femenino\n",
        "GeneroU = [\"male\", \"female\"]"
      ],
      "metadata": {
        "id": "4iyMeCE8mfab"
      },
      "execution_count": null,
      "outputs": []
    },
    {
      "cell_type": "code",
      "source": [
        "df['GeneroU']= random.choices(\n",
        "    GeneroU, \n",
        "    weights=(60,40), \n",
        "    k=num_usuarios\n",
        ")"
      ],
      "metadata": {
        "id": "xFOMH3oXmg2k"
      },
      "execution_count": null,
      "outputs": []
    },
    {
      "cell_type": "code",
      "source": [
        "# Importamos las librerias\n",
        "import random as r\n",
        "from random import seed\n",
        "from datetime import datetime\n",
        "numero=[]\n",
        "size = 10\n",
        "# Definimos un rango de numeros que se va a generar.\n",
        "for i in range(0, num_usuarios):\n",
        "  random.seed(datetime.now())\n",
        "  valores = [0,1,2,3,4,5,6,7,8,9]\n",
        "  numero=(''.join([str(random.choice(valores)) for i in range(size)]))\n",
        "  df.TelefonoU[i]=numero"
      ],
      "metadata": {
        "id": "f0IhSxf_iVP_"
      },
      "execution_count": null,
      "outputs": []
    },
    {
      "cell_type": "code",
      "source": [
        "def emailGen(name, duplicateFound=False):\n",
        "    \"\"\"\n",
        "    Genera una dirección de correo electrónico aleatoria basada en el nombre dado.\n",
        "     Agrega un número al final si se encuentra una dirección duplicada.\n",
        "    \"\"\"\n",
        "    # Dominio para usar\n",
        "    dom = \"@taxi.ruta.com\"\n",
        "    # Minusculas y division\n",
        "    name = name.lower().split(\" \")\n",
        "    #Caracteres en el correo\n",
        "    chars = [\".\", \"_\"]\n",
        "    new_name = name[0] + random.choice(chars) + name[1] \n",
        "    #Distinguir para los duplicados de los correos\n",
        "    if duplicateFound:\n",
        "        #Numero aleatorio para insertar al final\n",
        "        num = random.randint(0,100)\n",
        "        #Insertar al final\n",
        "        new_name = new_name + str(num)\n",
        "    #Devuelve la direccion de correo creada\n",
        "    return new_name + dom"
      ],
      "metadata": {
        "id": "KtORCKKjig81"
      },
      "execution_count": null,
      "outputs": []
    },
    {
      "cell_type": "code",
      "source": [
        "#Generacion de correos.\n",
        "emails = []\n",
        "for NombreU in df['NombreU']:\n",
        "    # Generamos el correo\n",
        "    email = emailGen(NombreU)\n",
        "    # Bucle que genera un correo unico\n",
        "    while email in emails:\n",
        "      #Creamos un correo con un numero cualquiera\n",
        "        email = emailGen(NombreU, duplicateFound=True)\n",
        "    # Adjunta el nuevo correo a la lista\n",
        "    emails.append(email)\n",
        "    \n",
        "df['CorreoU'] = emails"
      ],
      "metadata": {
        "id": "CRA77Audi69G"
      },
      "execution_count": null,
      "outputs": []
    },
    {
      "cell_type": "code",
      "source": [
        "# Verificamos el estado de la licencia.\n",
        "LicenciaU = [\"Activo\", \"Inactivo\"]"
      ],
      "metadata": {
        "id": "ZGmKKQXvjIZV"
      },
      "execution_count": null,
      "outputs": []
    },
    {
      "cell_type": "code",
      "source": [
        "df['LicenciaU']= random.choices(\n",
        "    LicenciaU, \n",
        "    weights=(90,10), \n",
        "    k=num_usuarios\n",
        ")"
      ],
      "metadata": {
        "id": "b9jYoM7KjKv9"
      },
      "execution_count": null,
      "outputs": []
    },
    {
      "cell_type": "code",
      "source": [
        "#Creacion del archivo \n",
        "df.to_csv('usuarios.csv')\n",
        "df.head(10)"
      ],
      "metadata": {
        "id": "uVxMAqK8jboe",
        "colab": {
          "base_uri": "https://localhost:8080/",
          "height": 363
        },
        "outputId": "76772ab1-0b19-4f51-ef05-0e2f1e7270d5"
      },
      "execution_count": null,
      "outputs": [
        {
          "output_type": "execute_result",
          "data": {
            "text/plain": [
              "                          IdUsuario           NombreU GeneroU   TelefonoU  \\\n",
              "0  f37ddfc859ac467caf4d532ab50abc22        Mark Bowen    male  2868756139   \n",
              "1  17b29721df9c418285721ede1f83d8e1    Amanda Gardner  female  1449944340   \n",
              "2  964f80a7bf39494fa3fa01528133a212     Taylor Murray  female  6104853698   \n",
              "3  1bf9f9542a724ba08f7bf5d9d485cc49   Bethany Johnson  female  2825232814   \n",
              "4  70fbfa46509143cca55d01bb1d6ec0fe    Ms. Amber Cruz  female  5716272479   \n",
              "5  c51b7b0f071140bf8f65e873abb4b72f  Courtney Collins    male  7029132931   \n",
              "6  84eb0b4db3764fa682d5bdea912188fe   Kathryn Ellison    male  7431308137   \n",
              "7  4d5a6e044eac4cc28dc8d1e03dff3d3b   Whitney Johnson    male  9540743749   \n",
              "8  f9acb4d841794025b34097e0afee6302        John Moran    male  7416013088   \n",
              "9  65676037cfc546cd9d7bdbccf93b64d7       Jason Weber    male  4534573842   \n",
              "\n",
              "                          CorreoU LicenciaU  \n",
              "0        mark_bowen@taxi.ruta.com    Activo  \n",
              "1    amanda.gardner@taxi.ruta.com  Inactivo  \n",
              "2     taylor_murray@taxi.ruta.com    Activo  \n",
              "3   bethany.johnson@taxi.ruta.com    Activo  \n",
              "4         ms..amber@taxi.ruta.com    Activo  \n",
              "5  courtney.collins@taxi.ruta.com  Inactivo  \n",
              "6   kathryn_ellison@taxi.ruta.com    Activo  \n",
              "7   whitney_johnson@taxi.ruta.com    Activo  \n",
              "8        john_moran@taxi.ruta.com    Activo  \n",
              "9       jason.weber@taxi.ruta.com    Activo  "
            ],
            "text/html": [
              "\n",
              "  <div id=\"df-659a62c6-8134-4d2e-8ef8-33ad40a712c7\">\n",
              "    <div class=\"colab-df-container\">\n",
              "      <div>\n",
              "<style scoped>\n",
              "    .dataframe tbody tr th:only-of-type {\n",
              "        vertical-align: middle;\n",
              "    }\n",
              "\n",
              "    .dataframe tbody tr th {\n",
              "        vertical-align: top;\n",
              "    }\n",
              "\n",
              "    .dataframe thead th {\n",
              "        text-align: right;\n",
              "    }\n",
              "</style>\n",
              "<table border=\"1\" class=\"dataframe\">\n",
              "  <thead>\n",
              "    <tr style=\"text-align: right;\">\n",
              "      <th></th>\n",
              "      <th>IdUsuario</th>\n",
              "      <th>NombreU</th>\n",
              "      <th>GeneroU</th>\n",
              "      <th>TelefonoU</th>\n",
              "      <th>CorreoU</th>\n",
              "      <th>LicenciaU</th>\n",
              "    </tr>\n",
              "  </thead>\n",
              "  <tbody>\n",
              "    <tr>\n",
              "      <th>0</th>\n",
              "      <td>f37ddfc859ac467caf4d532ab50abc22</td>\n",
              "      <td>Mark Bowen</td>\n",
              "      <td>male</td>\n",
              "      <td>2868756139</td>\n",
              "      <td>mark_bowen@taxi.ruta.com</td>\n",
              "      <td>Activo</td>\n",
              "    </tr>\n",
              "    <tr>\n",
              "      <th>1</th>\n",
              "      <td>17b29721df9c418285721ede1f83d8e1</td>\n",
              "      <td>Amanda Gardner</td>\n",
              "      <td>female</td>\n",
              "      <td>1449944340</td>\n",
              "      <td>amanda.gardner@taxi.ruta.com</td>\n",
              "      <td>Inactivo</td>\n",
              "    </tr>\n",
              "    <tr>\n",
              "      <th>2</th>\n",
              "      <td>964f80a7bf39494fa3fa01528133a212</td>\n",
              "      <td>Taylor Murray</td>\n",
              "      <td>female</td>\n",
              "      <td>6104853698</td>\n",
              "      <td>taylor_murray@taxi.ruta.com</td>\n",
              "      <td>Activo</td>\n",
              "    </tr>\n",
              "    <tr>\n",
              "      <th>3</th>\n",
              "      <td>1bf9f9542a724ba08f7bf5d9d485cc49</td>\n",
              "      <td>Bethany Johnson</td>\n",
              "      <td>female</td>\n",
              "      <td>2825232814</td>\n",
              "      <td>bethany.johnson@taxi.ruta.com</td>\n",
              "      <td>Activo</td>\n",
              "    </tr>\n",
              "    <tr>\n",
              "      <th>4</th>\n",
              "      <td>70fbfa46509143cca55d01bb1d6ec0fe</td>\n",
              "      <td>Ms. Amber Cruz</td>\n",
              "      <td>female</td>\n",
              "      <td>5716272479</td>\n",
              "      <td>ms..amber@taxi.ruta.com</td>\n",
              "      <td>Activo</td>\n",
              "    </tr>\n",
              "    <tr>\n",
              "      <th>5</th>\n",
              "      <td>c51b7b0f071140bf8f65e873abb4b72f</td>\n",
              "      <td>Courtney Collins</td>\n",
              "      <td>male</td>\n",
              "      <td>7029132931</td>\n",
              "      <td>courtney.collins@taxi.ruta.com</td>\n",
              "      <td>Inactivo</td>\n",
              "    </tr>\n",
              "    <tr>\n",
              "      <th>6</th>\n",
              "      <td>84eb0b4db3764fa682d5bdea912188fe</td>\n",
              "      <td>Kathryn Ellison</td>\n",
              "      <td>male</td>\n",
              "      <td>7431308137</td>\n",
              "      <td>kathryn_ellison@taxi.ruta.com</td>\n",
              "      <td>Activo</td>\n",
              "    </tr>\n",
              "    <tr>\n",
              "      <th>7</th>\n",
              "      <td>4d5a6e044eac4cc28dc8d1e03dff3d3b</td>\n",
              "      <td>Whitney Johnson</td>\n",
              "      <td>male</td>\n",
              "      <td>9540743749</td>\n",
              "      <td>whitney_johnson@taxi.ruta.com</td>\n",
              "      <td>Activo</td>\n",
              "    </tr>\n",
              "    <tr>\n",
              "      <th>8</th>\n",
              "      <td>f9acb4d841794025b34097e0afee6302</td>\n",
              "      <td>John Moran</td>\n",
              "      <td>male</td>\n",
              "      <td>7416013088</td>\n",
              "      <td>john_moran@taxi.ruta.com</td>\n",
              "      <td>Activo</td>\n",
              "    </tr>\n",
              "    <tr>\n",
              "      <th>9</th>\n",
              "      <td>65676037cfc546cd9d7bdbccf93b64d7</td>\n",
              "      <td>Jason Weber</td>\n",
              "      <td>male</td>\n",
              "      <td>4534573842</td>\n",
              "      <td>jason.weber@taxi.ruta.com</td>\n",
              "      <td>Activo</td>\n",
              "    </tr>\n",
              "  </tbody>\n",
              "</table>\n",
              "</div>\n",
              "      <button class=\"colab-df-convert\" onclick=\"convertToInteractive('df-659a62c6-8134-4d2e-8ef8-33ad40a712c7')\"\n",
              "              title=\"Convert this dataframe to an interactive table.\"\n",
              "              style=\"display:none;\">\n",
              "        \n",
              "  <svg xmlns=\"http://www.w3.org/2000/svg\" height=\"24px\"viewBox=\"0 0 24 24\"\n",
              "       width=\"24px\">\n",
              "    <path d=\"M0 0h24v24H0V0z\" fill=\"none\"/>\n",
              "    <path d=\"M18.56 5.44l.94 2.06.94-2.06 2.06-.94-2.06-.94-.94-2.06-.94 2.06-2.06.94zm-11 1L8.5 8.5l.94-2.06 2.06-.94-2.06-.94L8.5 2.5l-.94 2.06-2.06.94zm10 10l.94 2.06.94-2.06 2.06-.94-2.06-.94-.94-2.06-.94 2.06-2.06.94z\"/><path d=\"M17.41 7.96l-1.37-1.37c-.4-.4-.92-.59-1.43-.59-.52 0-1.04.2-1.43.59L10.3 9.45l-7.72 7.72c-.78.78-.78 2.05 0 2.83L4 21.41c.39.39.9.59 1.41.59.51 0 1.02-.2 1.41-.59l7.78-7.78 2.81-2.81c.8-.78.8-2.07 0-2.86zM5.41 20L4 18.59l7.72-7.72 1.47 1.35L5.41 20z\"/>\n",
              "  </svg>\n",
              "      </button>\n",
              "      \n",
              "  <style>\n",
              "    .colab-df-container {\n",
              "      display:flex;\n",
              "      flex-wrap:wrap;\n",
              "      gap: 12px;\n",
              "    }\n",
              "\n",
              "    .colab-df-convert {\n",
              "      background-color: #E8F0FE;\n",
              "      border: none;\n",
              "      border-radius: 50%;\n",
              "      cursor: pointer;\n",
              "      display: none;\n",
              "      fill: #1967D2;\n",
              "      height: 32px;\n",
              "      padding: 0 0 0 0;\n",
              "      width: 32px;\n",
              "    }\n",
              "\n",
              "    .colab-df-convert:hover {\n",
              "      background-color: #E2EBFA;\n",
              "      box-shadow: 0px 1px 2px rgba(60, 64, 67, 0.3), 0px 1px 3px 1px rgba(60, 64, 67, 0.15);\n",
              "      fill: #174EA6;\n",
              "    }\n",
              "\n",
              "    [theme=dark] .colab-df-convert {\n",
              "      background-color: #3B4455;\n",
              "      fill: #D2E3FC;\n",
              "    }\n",
              "\n",
              "    [theme=dark] .colab-df-convert:hover {\n",
              "      background-color: #434B5C;\n",
              "      box-shadow: 0px 1px 3px 1px rgba(0, 0, 0, 0.15);\n",
              "      filter: drop-shadow(0px 1px 2px rgba(0, 0, 0, 0.3));\n",
              "      fill: #FFFFFF;\n",
              "    }\n",
              "  </style>\n",
              "\n",
              "      <script>\n",
              "        const buttonEl =\n",
              "          document.querySelector('#df-659a62c6-8134-4d2e-8ef8-33ad40a712c7 button.colab-df-convert');\n",
              "        buttonEl.style.display =\n",
              "          google.colab.kernel.accessAllowed ? 'block' : 'none';\n",
              "\n",
              "        async function convertToInteractive(key) {\n",
              "          const element = document.querySelector('#df-659a62c6-8134-4d2e-8ef8-33ad40a712c7');\n",
              "          const dataTable =\n",
              "            await google.colab.kernel.invokeFunction('convertToInteractive',\n",
              "                                                     [key], {});\n",
              "          if (!dataTable) return;\n",
              "\n",
              "          const docLinkHtml = 'Like what you see? Visit the ' +\n",
              "            '<a target=\"_blank\" href=https://colab.research.google.com/notebooks/data_table.ipynb>data table notebook</a>'\n",
              "            + ' to learn more about interactive tables.';\n",
              "          element.innerHTML = '';\n",
              "          dataTable['output_type'] = 'display_data';\n",
              "          await google.colab.output.renderOutput(dataTable, element);\n",
              "          const docLink = document.createElement('div');\n",
              "          docLink.innerHTML = docLinkHtml;\n",
              "          element.appendChild(docLink);\n",
              "        }\n",
              "      </script>\n",
              "    </div>\n",
              "  </div>\n",
              "  "
            ]
          },
          "metadata": {},
          "execution_count": 204
        }
      ]
    }
  ]
}